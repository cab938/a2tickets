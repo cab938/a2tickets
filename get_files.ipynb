{
 "cells": [
  {
   "cell_type": "code",
   "execution_count": 46,
   "metadata": {},
   "outputs": [],
   "source": [
    "# Download and aggregate files including grand total records\n",
    "\n",
    "import pandas as pd\n",
    "years = ['2015','2016','2017','2018','2019','2020']\n",
    "sheet_names = ['Sheet1','Sheet2','Sheet3']\n",
    "column_names = ['Ticket #', 'Badge', 'Issue Date', 'IssueTime', 'Plate', 'State', 'Make', 'Model', 'Violation', 'Description', 'Location', 'Meter', 'Fine', 'Penalty']\n",
    "\n",
    "df = pd.DataFrame()\n",
    "for year in years:\n",
    "    if year == '2020':\n",
    "        url = 'https://github.com/cab938/a2tickets/blob/master/AnnArbor-TicketViolation-jan2020.xls?raw=true'\n",
    "        df1 = pd.read_excel(url, header = None, sheet_name = 0, skiprows = 2, names = column_names)\n",
    "        df = pd.concat([df,df1])\n",
    "    else:\n",
    "        url = 'https://github.com/cab938/a2tickets/blob/master/AnnArbor-TicketViolation' + year + '.xls?raw=true'\n",
    "        for sheet in sheet_names:\n",
    "            if sheet == 'Sheet1':\n",
    "                df1 = pd.read_excel(url, header = None, sheet_name = 0, skiprows = 2, names = column_names)\n",
    "                df = pd.concat([df,df1])\n",
    "            else:\n",
    "                df2 = pd.read_excel(url, header = None, sheet_name = sheet, names = column_names)\n",
    "                df = pd.concat([df,df2])"
   ]
  }
 ],
 "metadata": {
  "kernelspec": {
   "display_name": "Python 3",
   "language": "python",
   "name": "python3"
  },
  "language_info": {
   "codemirror_mode": {
    "name": "ipython",
    "version": 3
   },
   "file_extension": ".py",
   "mimetype": "text/x-python",
   "name": "python",
   "nbconvert_exporter": "python",
   "pygments_lexer": "ipython3",
   "version": "3.7.3"
  }
 },
 "nbformat": 4,
 "nbformat_minor": 2
}
